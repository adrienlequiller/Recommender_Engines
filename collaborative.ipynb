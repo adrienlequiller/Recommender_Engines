{
  "nbformat": 4,
  "nbformat_minor": 0,
  "metadata": {
    "colab": {
      "name": "collaborative.ipynb",
      "version": "0.3.2",
      "provenance": [],
      "collapsed_sections": []
    },
    "kernelspec": {
      "name": "python3",
      "display_name": "Python 3"
    }
  },
  "cells": [
    {
      "cell_type": "code",
      "metadata": {
        "id": "gUOw7v1gshRB",
        "colab_type": "code",
        "outputId": "535171ba-2035-4b56-ae80-354cd16d0f0a",
        "colab": {
          "base_uri": "https://localhost:8080/",
          "height": 102
        }
      },
      "source": [
        "!pip install scikit-surprise"
      ],
      "execution_count": 35,
      "outputs": [
        {
          "output_type": "stream",
          "text": [
            "Requirement already satisfied: scikit-surprise in /usr/local/lib/python3.6/dist-packages (1.0.6)\n",
            "Requirement already satisfied: numpy>=1.11.2 in /usr/local/lib/python3.6/dist-packages (from scikit-surprise) (1.16.4)\n",
            "Requirement already satisfied: scipy>=1.0.0 in /usr/local/lib/python3.6/dist-packages (from scikit-surprise) (1.3.0)\n",
            "Requirement already satisfied: six>=1.10.0 in /usr/local/lib/python3.6/dist-packages (from scikit-surprise) (1.12.0)\n",
            "Requirement already satisfied: joblib>=0.11 in /usr/local/lib/python3.6/dist-packages (from scikit-surprise) (0.13.2)\n"
          ],
          "name": "stdout"
        }
      ]
    },
    {
      "cell_type": "code",
      "metadata": {
        "id": "_PIX-QRykETN",
        "colab_type": "code",
        "colab": {}
      },
      "source": [
        "import pandas as pd\n",
        "import numpy as np"
      ],
      "execution_count": 0,
      "outputs": []
    },
    {
      "cell_type": "markdown",
      "metadata": {
        "id": "scDx5CoL8_6U",
        "colab_type": "text"
      },
      "source": [
        "## **Data Loading**"
      ]
    },
    {
      "cell_type": "code",
      "metadata": {
        "id": "z3h8f_2mwfgr",
        "colab_type": "code",
        "colab": {}
      },
      "source": [
        "from surprise import Dataset\n",
        "\n",
        "# Load the movielens-100k dataset (download it if needed),\n",
        "movie_data = Dataset.load_builtin('ml-100k')"
      ],
      "execution_count": 0,
      "outputs": []
    },
    {
      "cell_type": "markdown",
      "metadata": {
        "id": "yIZ_flA9XLTR",
        "colab_type": "text"
      },
      "source": [
        "We then split it with a training and a test set. "
      ]
    },
    {
      "cell_type": "code",
      "metadata": {
        "id": "mWgv8QP-XAXM",
        "colab_type": "code",
        "colab": {}
      },
      "source": [
        "from surprise.model_selection import train_test_split\n",
        "trainset, testset = train_test_split(movie_data, test_size=.25)"
      ],
      "execution_count": 0,
      "outputs": []
    },
    {
      "cell_type": "markdown",
      "metadata": {
        "id": "lZPRTJr5Q6EA",
        "colab_type": "text"
      },
      "source": [
        "## **Algo Building** : With Surprise\n",
        "\n"
      ]
    },
    {
      "cell_type": "markdown",
      "metadata": {
        "id": "fnAhq8BHsRZD",
        "colab_type": "text"
      },
      "source": [
        "### With SVD"
      ]
    },
    {
      "cell_type": "code",
      "metadata": {
        "id": "nJuBjF7YnGw3",
        "colab_type": "code",
        "colab": {
          "base_uri": "https://localhost:8080/",
          "height": 102
        },
        "outputId": "23d2e6ec-f36e-48d9-82c2-d7c13a6f6b90"
      },
      "source": [
        "from surprise import SVD\n",
        "from surprise import Dataset\n",
        "from surprise import accuracy\n",
        "from surprise.model_selection import KFold\n",
        "\n",
        "\n",
        "# define a cross-validation iterator\n",
        "kf = KFold(n_splits=5)\n",
        "\n",
        "algo = SVD()\n",
        "\n",
        "for trainset, testset in kf.split(data):\n",
        "\n",
        "    # train and test algorithm.\n",
        "    algo.fit(trainset)\n",
        "    predictions = algo.test(testset)\n",
        "\n",
        "    # Compute and print Root Mean Squared Error\n",
        "    accuracy.rmse(predictions, verbose=True)"
      ],
      "execution_count": 19,
      "outputs": [
        {
          "output_type": "stream",
          "text": [
            "RMSE: 0.9341\n",
            "RMSE: 0.9300\n",
            "RMSE: 0.9396\n",
            "RMSE: 0.9285\n",
            "RMSE: 0.9421\n"
          ],
          "name": "stdout"
        }
      ]
    },
    {
      "cell_type": "markdown",
      "metadata": {
        "id": "g96MA8EksVSM",
        "colab_type": "text"
      },
      "source": [
        "### With KNN-Basic"
      ]
    },
    {
      "cell_type": "code",
      "metadata": {
        "id": "v-cTMcW7saPz",
        "colab_type": "code",
        "outputId": "3809adb3-2141-4a19-b019-e3c07a5a99f0",
        "colab": {
          "base_uri": "https://localhost:8080/",
          "height": 272
        }
      },
      "source": [
        "from surprise import KNNBasic\n",
        "\n",
        "\n",
        "kf = KFold(n_splits=5)\n",
        "\n",
        "algo = KNNBasic()\n",
        "\n",
        "for trainset, testset in kf.split(data):\n",
        "\n",
        "\n",
        "    algo.fit(trainset)\n",
        "    predictions = algo.test(testset)\n",
        "    accuracy.rmse(predictions, verbose=True)"
      ],
      "execution_count": 39,
      "outputs": [
        {
          "output_type": "stream",
          "text": [
            "Computing the msd similarity matrix...\n",
            "Done computing similarity matrix.\n",
            "RMSE: 0.9739\n",
            "Computing the msd similarity matrix...\n",
            "Done computing similarity matrix.\n",
            "RMSE: 0.9777\n",
            "Computing the msd similarity matrix...\n",
            "Done computing similarity matrix.\n",
            "RMSE: 0.9831\n",
            "Computing the msd similarity matrix...\n",
            "Done computing similarity matrix.\n",
            "RMSE: 0.9737\n",
            "Computing the msd similarity matrix...\n",
            "Done computing similarity matrix.\n",
            "RMSE: 0.9793\n"
          ],
          "name": "stdout"
        }
      ]
    },
    {
      "cell_type": "markdown",
      "metadata": {
        "id": "fBHhvC_Esv-U",
        "colab_type": "text"
      },
      "source": [
        "### With KNN-with-means"
      ]
    },
    {
      "cell_type": "code",
      "metadata": {
        "id": "GAW_X22rsr23",
        "colab_type": "code",
        "outputId": "423552ff-0166-43c6-afee-6f61f7027cac",
        "colab": {
          "base_uri": "https://localhost:8080/",
          "height": 272
        }
      },
      "source": [
        "from surprise import KNNWithMeans\n",
        "\n",
        "\n",
        "kf = KFold(n_splits=5)\n",
        "\n",
        "algo = KNNWithMeans()\n",
        "\n",
        "for trainset, testset in kf.split(data):\n",
        "\n",
        "    algo.fit(trainset)\n",
        "    predictions = algo.test(testset)\n",
        "    accuracy.rmse(predictions, verbose=True)"
      ],
      "execution_count": 21,
      "outputs": [
        {
          "output_type": "stream",
          "text": [
            "Computing the msd similarity matrix...\n",
            "Done computing similarity matrix.\n",
            "RMSE: 0.9622\n",
            "Computing the msd similarity matrix...\n",
            "Done computing similarity matrix.\n",
            "RMSE: 0.9491\n",
            "Computing the msd similarity matrix...\n",
            "Done computing similarity matrix.\n",
            "RMSE: 0.9469\n",
            "Computing the msd similarity matrix...\n",
            "Done computing similarity matrix.\n",
            "RMSE: 0.9529\n",
            "Computing the msd similarity matrix...\n",
            "Done computing similarity matrix.\n",
            "RMSE: 0.9449\n"
          ],
          "name": "stdout"
        }
      ]
    },
    {
      "cell_type": "markdown",
      "metadata": {
        "id": "vlTeRQGUtASG",
        "colab_type": "text"
      },
      "source": [
        "### With SVD++"
      ]
    },
    {
      "cell_type": "code",
      "metadata": {
        "id": "ooVJ1KPioZT7",
        "colab_type": "code",
        "colab": {
          "base_uri": "https://localhost:8080/",
          "height": 102
        },
        "outputId": "cf824dab-d003-406c-d416-c7f3746a283b"
      },
      "source": [
        "from surprise import SVDpp\n",
        "\n",
        "\n",
        "kf = KFold(n_splits=5)\n",
        "\n",
        "algo = SVDpp()\n",
        "\n",
        "for trainset, testset in kf.split(data):\n",
        "\n",
        "    algo.fit(trainset)\n",
        "    predictions = algo.test(testset)\n",
        "    accuracy.rmse(predictions, verbose=True)"
      ],
      "execution_count": 22,
      "outputs": [
        {
          "output_type": "stream",
          "text": [
            "RMSE: 0.9253\n",
            "RMSE: 0.9175\n",
            "RMSE: 0.9173\n",
            "RMSE: 0.9178\n",
            "RMSE: 0.9243\n"
          ],
          "name": "stdout"
        }
      ]
    },
    {
      "cell_type": "markdown",
      "metadata": {
        "id": "YFLEaGT5pc9z",
        "colab_type": "text"
      },
      "source": [
        "### With Co-Clustering"
      ]
    },
    {
      "cell_type": "code",
      "metadata": {
        "id": "-xFdTHnGpn2X",
        "colab_type": "code",
        "colab": {
          "base_uri": "https://localhost:8080/",
          "height": 102
        },
        "outputId": "f99371f1-e568-4144-ca1c-66e7bc3ddb86"
      },
      "source": [
        "from surprise import CoClustering \n",
        "\n",
        "\n",
        "kf = KFold(n_splits=5)\n",
        "\n",
        "algo = CoClustering()\n",
        "\n",
        "for trainset, testset in kf.split(data):\n",
        "\n",
        "    algo.fit(trainset)\n",
        "    predictions = algo.test(testset)\n",
        "    accuracy.rmse(predictions, verbose=True)"
      ],
      "execution_count": 23,
      "outputs": [
        {
          "output_type": "stream",
          "text": [
            "RMSE: 0.9629\n",
            "RMSE: 0.9561\n",
            "RMSE: 0.9645\n",
            "RMSE: 0.9700\n",
            "RMSE: 0.9757\n"
          ],
          "name": "stdout"
        }
      ]
    },
    {
      "cell_type": "markdown",
      "metadata": {
        "id": "a4CFjHJHpkUo",
        "colab_type": "text"
      },
      "source": [
        "### With NMF"
      ]
    },
    {
      "cell_type": "code",
      "metadata": {
        "id": "N8xmcYI1poaL",
        "colab_type": "code",
        "colab": {
          "base_uri": "https://localhost:8080/",
          "height": 102
        },
        "outputId": "8e3db517-3dc6-474f-dc50-6d2120c95a92"
      },
      "source": [
        "from surprise import NMF\n",
        "\n",
        "\n",
        "kf = KFold(n_splits=5)\n",
        "\n",
        "algo = NMF()\n",
        "\n",
        "for trainset, testset in kf.split(data):\n",
        "\n",
        "    algo.fit(trainset)\n",
        "    predictions = algo.test(testset)\n",
        "    accuracy.rmse(predictions, verbose=True)"
      ],
      "execution_count": 24,
      "outputs": [
        {
          "output_type": "stream",
          "text": [
            "RMSE: 0.9555\n",
            "RMSE: 0.9617\n",
            "RMSE: 0.9657\n",
            "RMSE: 0.9664\n",
            "RMSE: 0.9583\n"
          ],
          "name": "stdout"
        }
      ]
    },
    {
      "cell_type": "markdown",
      "metadata": {
        "id": "rJ-D1H_GOJO_",
        "colab_type": "text"
      },
      "source": [
        "### Predictions with KNNBasic\n",
        "KNNBasic gave the best results here. \n",
        "\n",
        "Let's do a prediction for a particular couple of user, movie. Let's take user 10 and movie 100. "
      ]
    },
    {
      "cell_type": "code",
      "metadata": {
        "id": "aCt3znsyOIge",
        "colab_type": "code",
        "colab": {
          "base_uri": "https://localhost:8080/",
          "height": 34
        },
        "outputId": "e8d920ba-7a51-4ee9-a608-3ebef54eea06"
      },
      "source": [
        "user_id = str(1)\n",
        "movie_id = str(10)\n",
        "\n",
        "prediction = algo.predict(user_id,movie_id)\n",
        "prediction"
      ],
      "execution_count": 41,
      "outputs": [
        {
          "output_type": "execute_result",
          "data": {
            "text/plain": [
              "Prediction(uid='1', iid='10', r_ui=None, est=4.078636050542991, details={'actual_k': 40, 'was_impossible': False})"
            ]
          },
          "metadata": {
            "tags": []
          },
          "execution_count": 41
        }
      ]
    }
  ]
}